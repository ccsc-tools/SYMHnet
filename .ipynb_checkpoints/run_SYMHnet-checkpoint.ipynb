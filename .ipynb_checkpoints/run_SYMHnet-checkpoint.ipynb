{
 "cells": [
  {
   "cell_type": "markdown",
   "id": "a88e208c",
   "metadata": {},
   "source": [
    "# Figures, data, trained model, and testing example for Prediction of the SYM-H Index Using a Bayesian Deep Learning Method with Uncertainty QuantificationSYMHnet prediction"
   ]
  },
  {
   "cell_type": "markdown",
   "id": "e516bf62",
   "metadata": {},
   "source": [
    "1. The original data that consist solar wind, IMF and derived parameters along with the SYM-H index data used in our study are publicly available from NASA's Space Physics Data Facility at http://omniweb.gsfc.nasa.gov/ow.html"
   ]
  },
  {
   "cell_type": "markdown",
   "id": "592e4c75",
   "metadata": {},
   "source": [
    "2. List of paper figures and training and testing data are available at the Zenodo repository https://zenodo.org/record/7713212#.ZAoKpHbMJD8"
   ]
  },
  {
   "cell_type": "markdown",
   "id": "1487dc15",
   "metadata": {},
   "source": [
    "### Simulating and Predicting with Pretrained Models"
   ]
  },
  {
   "cell_type": "markdown",
   "id": "86853a04",
   "metadata": {},
   "source": [
    "Predicting 1 minute resolution for 1-6 hours"
   ]
  },
  {
   "cell_type": "code",
   "execution_count": 1,
   "id": "09446348",
   "metadata": {},
   "outputs": [
    {
     "name": "stdout",
     "output_type": "stream",
     "text": [
      "Starting the training for start_hour: 1\n",
      "Running testing for h = 1 hour ahead\n",
      "Running prediction..\n",
      "Uncertainty Quantification, please wait while in progress..\n",
      "Running testing for h = 2 hour ahead\n"
     ]
    }
   ],
   "source": [
    "from SYMHnet_test import test"
   ]
  },
  {
   "cell_type": "code",
   "execution_count": null,
   "id": "e8d04af8",
   "metadata": {},
   "outputs": [],
   "source": [
    "starting_hour = 1\n",
    "test(starting_hour,starting_hour+6)"
   ]
  },
  {
   "cell_type": "code",
   "execution_count": null,
   "id": "bfa99a3f",
   "metadata": {},
   "outputs": [],
   "source": []
  }
 ],
 "metadata": {
  "kernelspec": {
   "display_name": "Python 3",
   "language": "python",
   "name": "python3"
  },
  "language_info": {
   "codemirror_mode": {
    "name": "ipython",
    "version": 3
   },
   "file_extension": ".py",
   "mimetype": "text/x-python",
   "name": "python",
   "nbconvert_exporter": "python",
   "pygments_lexer": "ipython3",
   "version": "3.9.7"
  }
 },
 "nbformat": 4,
 "nbformat_minor": 5
}
