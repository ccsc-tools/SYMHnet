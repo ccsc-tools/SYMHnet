{
 "cells": [
  {
   "cell_type": "markdown",
   "id": "a88e208c",
   "metadata": {},
   "source": [
    "# Prediction of the SYM-H Index Using a Bayesian Deep Learning Method with Uncertainty Quantification"
   ]
  },
  {
   "cell_type": "markdown",
   "id": "2469b7ae",
   "metadata": {},
   "source": [
    "# Authors\n",
    "## Yasser Abduallah, Jason T. L. Wang, Khalid A. Alobaid, Haimin Wang1, Vania K. Jordanova, Vasyl Yurchyshyn, Huseyin Cavus, and  Ju Jing"
   ]
  },
  {
   "cell_type": "markdown",
   "id": "1487dc15",
   "metadata": {},
   "source": [
    "# 1. Introduction"
   ]
  },
  {
   "cell_type": "markdown",
   "id": "0a607b49-af88-4caf-aa78-3fff09dc03fe",
   "metadata": {},
   "source": [
    "We propose a novel deep learning framework, named SYMHnet, which employs a graph neural network and \n",
    "a bidirectional long short-term memory network to cooperatively learn patterns from \n",
    "solar wind and interplanetary magnetic field parameters\n",
    "for short-term\n",
    "forecasts of the SYM-H index based on\n",
    "1-minute and 5-minute resolution data. SYMHnet takes, as input, the time series of the parameters' values\n",
    "provided by NASA's Space Science Data Coordinated Archive\n",
    "and predicts, as output, \n",
    "the SYM-H index value\n",
    "at time point t + w hours\n",
    "for a given time point t \n",
    "where w is 1 or 2.\n",
    "By incorporating Bayesian inference into the learning framework, \n",
    "SYMHnet can quantify both aleatoric (data) uncertainty and\n",
    "epistemic (model) uncertainty when predicting future SYM-H indices.\n",
    "Experimental results show that\n",
    "SYMHnet works well at quiet time and storm time,\n",
    "for both 1-minute and 5-minute resolution data.\n",
    "\n",
    "In this notebook, we provide an overview of the SYMHnet project,\n",
    "detailing how to run forecasting and training tasks.\n"
   ]
  },
  {
   "cell_type": "markdown",
   "id": "5121008d-9aea-4033-86a3-5c71bcb72d15",
   "metadata": {},
   "source": [
    "## 2. Workflow of SYMHnet\n",
    "\n",
    "### 2.1 Data Preparation and Loading\n",
    "\n",
    "The data directory inside the data folder includes all testing and training data sets required\n",
    "to run the notebook. The files are loaded and used during the testing and training process.\n",
    "\n",
    "__Note__\n",
    "The original data that consist solar wind, IMF and derived parameters along with the SYM-H index data used in our study are publicly available from NASA's Space Physics Data Facility at http://omniweb.gsfc.nasa.gov/ow.html"
   ]
  },
  {
   "cell_type": "markdown",
   "id": "86853a04",
   "metadata": {},
   "source": [
    "## 2.2 Predicting with Pretrained Model"
   ]
  },
  {
   "cell_type": "markdown",
   "id": "4da3a908-1aa9-4352-b924-a508e22f9209",
   "metadata": {},
   "source": [
    "There are default and pretrained models that can be used to predict without running your own trained model."
   ]
  },
  {
   "cell_type": "markdown",
   "id": "bc2ae68a-61e0-4a86-8e3c-70404fb020cb",
   "metadata": {},
   "source": [
    "### 2.2.1 Predicting Storms #36 and #37 for 1-minute Resolution Prediction Error"
   ]
  },
  {
   "cell_type": "code",
   "execution_count": 1,
   "id": "2dc6619d-620d-4117-924b-a5b0d048d053",
   "metadata": {},
   "outputs": [
    {
     "name": "stdout",
     "output_type": "stream",
     "text": [
      "Running testing for storm #36 for  1-hour ahead for 1-minute resolution\n",
      "\n",
      "[2023-12-03 18:46:54] Saving figure to file: figures\\storm_1min_36_1h_symh_uq_pe.pdf \n",
      "Running testing for storm #36 for  2-hour ahead for 1-minute resolution\n",
      "\n",
      "\n",
      "[2023-12-03 18:47:10] Saving figure to file: figures\\storm_1min_36_2h_symh_uq_pe.pdf \n",
      "Running testing for storm #37 for  1-hour ahead for 1-minute resolution\n",
      "\n",
      "[2023-12-03 18:47:27] Saving figure to file: figures\\storm_1min_37_1h_symh_uq_pe.pdf \n",
      "Running testing for storm #37 for  2-hour ahead for 1-minute resolution\n",
      "\n",
      "\n",
      "[2023-12-03 18:47:45] Saving figure to file: figures\\storm_1min_37_2h_symh_uq_pe.pdf \n",
      "Running testing for storm #36 for  1-hour ahead for 1-minute resolution\n",
      "[2023-12-03 18:48:02] Saving figure to file: figures\\storm_1min_36_1h_symh_uq.pdf \n",
      "Running testing for storm #36 for  2-hour ahead for 1-minute resolution\n",
      "[2023-12-03 18:48:19] Saving figure to file: figures\\storm_1min_36_2h_symh_uq.pdf \n",
      "Running testing for storm #37 for  1-hour ahead for 1-minute resolution\n",
      "[2023-12-03 18:48:38] Saving figure to file: figures\\storm_1min_37_1h_symh_uq.pdf \n",
      "Running testing for storm #37 for  2-hour ahead for 1-minute resolution\n",
      "[2023-12-03 18:48:54] Saving figure to file: figures\\storm_1min_37_2h_symh_uq.pdf \n"
     ]
    }
   ],
   "source": [
    "#Producing and testing Figure 3\n",
    "from SYMHnet_test import test_storm\n",
    "storm_to_test = 36      #storm number 36\n",
    "start_hour = 1          #1-hour ahead\n",
    "end_hour = 2            #2-hour ahead\n",
    "resolution_minutes=1    #resolution\n",
    "do_pred_error=True      #perform prediction error True|False\n",
    "view_type=''            #locatization type: '_lv' means focus on local view (peak storm time), '' (blank) full range\n",
    "test_storm(storm_to_test,\n",
    "           start_hour,end_hour+1, \n",
    "           resolution_minutes=resolution_minutes, \n",
    "           do_pred_error=do_pred_error,\n",
    "           view_type=view_type)\n",
    "storm_to_test = 37      #storm number 37\n",
    "test_storm(storm_to_test,\n",
    "           start_hour,end_hour+1, \n",
    "           resolution_minutes=resolution_minutes, \n",
    "           do_pred_error=do_pred_error,\n",
    "           view_type=view_type)\n",
    "\n"
   ]
  },
  {
   "cell_type": "markdown",
   "id": "4d3c17c1-14b6-43a0-a73e-5e41284c097f",
   "metadata": {},
   "source": [
    "#### 2.2.1.1 Displaying the Results Figures for Storms #36 and #37 for 1-minute Resolution Prediction Error"
   ]
  },
  {
   "cell_type": "markdown",
   "id": "c36a79b7-e6dd-467c-bb5f-45d4d46d4cb9",
   "metadata": {},
   "source": [
    "<div style=\"text-align:center; width:100%\">\n",
    "    <img src=\"figures/storm_1min_36_1h_symh_uq_pe.png\" style=\"width:49%; float:left\" />\n",
    "    <img src=\"figures/storm_1min_36_2h_symh_uq_pe.png\" style=\"width:49%; float:right\" /><br>\n",
    "    <img src=\"figures/storm_1min_37_1h_symh_uq_pe.png\" style=\"width:49%; float:left\" />\n",
    "    <img src=\"figures/storm_1min_37_2h_symh_uq_pe.png\" style=\"width:49%; float:right\" /><br> \n",
    "    <img src=\"figures/storm_uq_pe_legend.png\" style=\"margin-left:2%; width:50%\" />\n",
    "</div>"
   ]
  },
  {
   "cell_type": "markdown",
   "id": "569d2c0b-884f-4d41-920b-c1a1076b6262",
   "metadata": {},
   "source": [
    "<div><im src=\"figures\\storm_1min_36_1h_symh_uq_pe.png\"/></div>\n"
   ]
  },
  {
   "cell_type": "markdown",
   "id": "f99092c5",
   "metadata": {},
   "source": [
    "### 2.2.2 Predicting Storms #36 and #37 for 1-minute Resolution Uncertainty Quantification"
   ]
  },
  {
   "cell_type": "code",
   "execution_count": 1,
   "id": "5dd2e541",
   "metadata": {},
   "outputs": [
    {
     "name": "stdout",
     "output_type": "stream",
     "text": [
      "Running testing for storm #36 for  1-hour ahead for 1-minute resolution\n",
      "[2023-12-03 18:56:52] Saving figure to file: figures\\storm_1min_36_1h_symh_uq.pdf \n",
      "Running testing for storm #36 for  2-hour ahead for 1-minute resolution\n",
      "[2023-12-03 18:57:09] Saving figure to file: figures\\storm_1min_36_2h_symh_uq.pdf \n",
      "Running testing for storm #37 for  1-hour ahead for 1-minute resolution\n",
      "[2023-12-03 18:57:27] Saving figure to file: figures\\storm_1min_37_1h_symh_uq.pdf \n",
      "Running testing for storm #37 for  2-hour ahead for 1-minute resolution\n",
      "[2023-12-03 18:57:44] Saving figure to file: figures\\storm_1min_37_2h_symh_uq.pdf \n"
     ]
    }
   ],
   "source": [
    "#Producing and testing Figure 4\n",
    "from SYMHnet_test import test_storm\n",
    "storm_to_test = 36      #storm number 36\n",
    "start_hour = 1          #1-hour ahead\n",
    "end_hour = 2            #2-hour ahead\n",
    "resolution_minutes=1    #resolution\n",
    "do_pred_error=False      #perform prediction error True|False\n",
    "view_type=''            #locatization type: '_lv' means focus on local view (peak storm time), '' (blank) full range\n",
    "test_storm(storm_to_test,\n",
    "           start_hour,end_hour+1, \n",
    "           resolution_minutes=resolution_minutes, \n",
    "           do_pred_error=do_pred_error,\n",
    "           view_type=view_type)\n",
    "storm_to_test = 37      #storm number 37\n",
    "test_storm(storm_to_test,\n",
    "           start_hour,end_hour+1, \n",
    "           resolution_minutes=resolution_minutes, \n",
    "           do_pred_error=do_pred_error,\n",
    "           view_type=view_type)"
   ]
  },
  {
   "cell_type": "markdown",
   "id": "6bbefc16-54a6-46ce-9be5-08828bdc390a",
   "metadata": {},
   "source": [
    "#### 2.2.2.1 Displaying the Results Figures for Storms #36 and #37 for 1-minute Resolution Uncertainty Quantification"
   ]
  },
  {
   "cell_type": "markdown",
   "id": "d488b859-ffc2-46a5-9c21-19ccdf3e587d",
   "metadata": {},
   "source": [
    "<div style=\"text-align:center; width:100%\">\n",
    "    <img src=\"figures/storm_1min_36_1h_symh_uq.png\" style=\"width:49%; float:left\" />\n",
    "    <img src=\"figures/storm_1min_36_2h_symh_uq.png\" style=\"width:49%; float:right\" /><br>\n",
    "    <img src=\"figures/storm_1min_37_1h_symh_uq.png\" style=\"width:49%; float:left\" />\n",
    "    <img src=\"figures/storm_1min_37_2h_symh_uq.png\" style=\"width:49%; float:right\" /><br> \n",
    "    <img src=\"figures/storm_uq_legend.png\" style=\"margin-left:2%; width:70%\" />\n",
    "</div>"
   ]
  },
  {
   "cell_type": "markdown",
   "id": "96ef7395-e665-4c39-827b-4990b2cf4b7f",
   "metadata": {},
   "source": [
    "### 2.2.3 Predicting Storms #36 and #37 for 5-minute Resolution Prediction Error - Peak Storm Time\n",
    "In this section, we focus on the peak storm time."
   ]
  },
  {
   "cell_type": "code",
   "execution_count": 1,
   "id": "e43b2c77-59c1-42b2-b2a6-a8467f831dc2",
   "metadata": {},
   "outputs": [
    {
     "name": "stdout",
     "output_type": "stream",
     "text": [
      "Running testing for storm #36 for  1-hour ahead for 5-minute resolution\n",
      "\n",
      "[2023-12-04 09:40:25] Saving figure to file: figures\\storm_5min_36_1h_symh_uq_lv_pe.pdf \n",
      "Running testing for storm #36 for  2-hour ahead for 5-minute resolution\n",
      "\n",
      "\n",
      "[2023-12-04 09:40:31] Saving figure to file: figures\\storm_5min_36_2h_symh_uq_lv_pe.pdf \n",
      "Running testing for storm #37 for  1-hour ahead for 5-minute resolution\n",
      "\n",
      "[2023-12-04 09:40:36] Saving figure to file: figures\\storm_5min_37_1h_symh_uq_lv_pe.pdf \n",
      "Running testing for storm #37 for  2-hour ahead for 5-minute resolution\n",
      "\n",
      "\n",
      "[2023-12-04 09:40:41] Saving figure to file: figures\\storm_5min_37_2h_symh_uq_lv_pe.pdf \n",
      "Running testing for storm #36 for  1-hour ahead for 5-minute resolution\n",
      "[2023-12-04 09:45:25] Saving figure to file: figures\\storm_5min_36_1h_symh_uq_lv.pdf \n",
      "Running testing for storm #36 for  2-hour ahead for 5-minute resolution\n",
      "[2023-12-04 09:45:30] Saving figure to file: figures\\storm_5min_36_2h_symh_uq_lv.pdf \n",
      "Running testing for storm #37 for  1-hour ahead for 5-minute resolution\n",
      "[2023-12-04 09:45:35] Saving figure to file: figures\\storm_5min_37_1h_symh_uq_lv.pdf \n",
      "Running testing for storm #37 for  2-hour ahead for 5-minute resolution\n",
      "[2023-12-04 09:45:40] Saving figure to file: figures\\storm_5min_37_2h_symh_uq_lv.pdf \n"
     ]
    }
   ],
   "source": [
    "#Producing and testing Figure 5\n",
    "from SYMHnet_test import test_storm\n",
    "storm_to_test = 36      #storm number 36\n",
    "start_hour = 1          #1-hour ahead\n",
    "end_hour = 2            #2-hour ahead\n",
    "resolution_minutes=5    #resolution\n",
    "do_pred_error=True      #perform prediction error True|False\n",
    "view_type='_lv'            #locatization type: '_lv' means focus on local view (peak storm time), '' (blank) full range\n",
    "test_storm(storm_to_test,\n",
    "           start_hour,end_hour+1, \n",
    "           resolution_minutes=resolution_minutes, \n",
    "           do_pred_error=do_pred_error,\n",
    "           view_type=view_type)\n",
    "storm_to_test = 37      #storm number 37\n",
    "test_storm(storm_to_test,\n",
    "           start_hour,end_hour+1, \n",
    "           resolution_minutes=resolution_minutes, \n",
    "           do_pred_error=do_pred_error,\n",
    "           view_type=view_type)"
   ]
  },
  {
   "cell_type": "markdown",
   "id": "3aecc35f-3014-4de6-b6ae-0833fae71c04",
   "metadata": {},
   "source": [
    "#### 2.2.3.1 Displaying the Results Figures for Storms #36 and #37 for 5-minute Resolution Prediction Error"
   ]
  },
  {
   "cell_type": "markdown",
   "id": "54bcdb3d-8079-49f1-96fd-b8d1192bca83",
   "metadata": {},
   "source": [
    "<div style=\"text-align:center; width:100%\">\n",
    "    <img src=\"figures/storm_5min_36_1h_symh_uq_lv_pe.png\" style=\"width:49%; float:left\" />\n",
    "    <img src=\"figures/storm_5min_36_2h_symh_uq_lv_pe.png\" style=\"width:49%; float:right\" /><br>\n",
    "    <img src=\"figures/storm_5min_37_1h_symh_uq_lv_pe.png\" style=\"width:49%; float:left\" />\n",
    "    <img src=\"figures/storm_5min_37_2h_symh_uq_lv_pe.png\" style=\"width:49%; float:right\" /><br> \n",
    "    <img src=\"figures/storm_uq_pe_legend.png\" style=\"margin-left:2%; width:50%\" />\n",
    "</div>"
   ]
  },
  {
   "cell_type": "markdown",
   "id": "6e6fb3b0-ffd0-4fd6-9ba5-7bcd0f517047",
   "metadata": {},
   "source": [
    "### 2.2.4 Predicting Storms #36 and #37 for 5-minute Resolution Uncertainty Quantification - Peak Storm Time\n",
    "In this section, we focus on the peak storm time."
   ]
  },
  {
   "cell_type": "code",
   "execution_count": 1,
   "id": "d5d47d4f-f046-4fa3-a641-16f2fa23f295",
   "metadata": {},
   "outputs": [
    {
     "name": "stdout",
     "output_type": "stream",
     "text": [
      "Running testing for storm #36 for  1-hour ahead for 5-minute resolution\n",
      "[2023-12-04 09:50:14] Saving figure to file: figures\\storm_5min_36_1h_symh_uq_lv.pdf \n",
      "Running testing for storm #36 for  2-hour ahead for 5-minute resolution\n",
      "[2023-12-04 09:50:20] Saving figure to file: figures\\storm_5min_36_2h_symh_uq_lv.pdf \n",
      "Running testing for storm #37 for  1-hour ahead for 5-minute resolution\n",
      "[2023-12-04 09:50:25] Saving figure to file: figures\\storm_5min_37_1h_symh_uq_lv.pdf \n",
      "Running testing for storm #37 for  2-hour ahead for 5-minute resolution\n",
      "[2023-12-04 09:50:30] Saving figure to file: figures\\storm_5min_37_2h_symh_uq_lv.pdf \n"
     ]
    }
   ],
   "source": [
    "#Producing and testing Figure 6\n",
    "from SYMHnet_test import test_storm\n",
    "storm_to_test = 36      #storm number 36\n",
    "start_hour = 1          #1-hour ahead\n",
    "end_hour = 2            #2-hour ahead\n",
    "resolution_minutes=5    #resolution\n",
    "do_pred_error=False      #perform prediction error True|False\n",
    "view_type='_lv'            #locatization type: '_lv' means focus on local view (peak storm time), '' (blank) full range\n",
    "test_storm(storm_to_test,\n",
    "           start_hour,end_hour+1, \n",
    "           resolution_minutes=resolution_minutes, \n",
    "           do_pred_error=do_pred_error,\n",
    "           view_type=view_type)\n",
    "storm_to_test = 37      #storm number 37\n",
    "test_storm(storm_to_test,\n",
    "           start_hour,end_hour+1, \n",
    "           resolution_minutes=resolution_minutes, \n",
    "           do_pred_error=do_pred_error,\n",
    "           view_type=view_type)"
   ]
  },
  {
   "cell_type": "markdown",
   "id": "383db6ba-86d1-4b6e-af44-3a694f272982",
   "metadata": {},
   "source": [
    "### 2.2.4.1 Displaying the Results Figures for Storms #36 and #37 for 5-minute Resolution Uncertainty Quantification - Peak Storm Time"
   ]
  },
  {
   "cell_type": "markdown",
   "id": "b480cdfe-ff8f-4ff3-b5b0-a8f043e89aa1",
   "metadata": {},
   "source": [
    "<div style=\"text-align:center; width:100%\">\n",
    "    <img src=\"figures/storm_5min_36_1h_symh_uq_lv.png\" style=\"width:49%; float:left\" />\n",
    "    <img src=\"figures/storm_5min_36_2h_symh_uq_lv.png\" style=\"width:49%; float:right\" /><br>\n",
    "    <img src=\"figures/storm_5min_37_1h_symh_uq_lv.png\" style=\"width:49%; float:left\" />\n",
    "    <img src=\"figures/storm_5min_37_2h_symh_uq_lv.png\" style=\"width:49%; float:right\" /><br> \n",
    "    <img src=\"figures/storm_uq_legend.png\" style=\"margin-left:2%; width:70%\" />\n",
    "</div>"
   ]
  },
  {
   "cell_type": "markdown",
   "id": "56b603f2-9484-4362-ac60-4f106c241f74",
   "metadata": {},
   "source": [
    "### 2.2.5 Predicting Storms #28,#31,#33,#40, and #42 for 1-minute Resolution Prediction Error"
   ]
  },
  {
   "cell_type": "code",
   "execution_count": 1,
   "id": "f40c1867-11a8-4b7a-aca2-34673d2089f6",
   "metadata": {},
   "outputs": [
    {
     "name": "stdout",
     "output_type": "stream",
     "text": [
      "Running testing for storm #28 for  1-hour ahead for 1-minute resolution\n",
      "\n",
      "[2023-12-04 10:03:38] Saving figure to file: figures\\storm_1min_28_1h_symh_uq_pe.pdf \n",
      "Running testing for storm #28 for  2-hour ahead for 1-minute resolution\n",
      "\n",
      "\n",
      "[2023-12-04 10:03:53] Saving figure to file: figures\\storm_1min_28_2h_symh_uq_pe.pdf \n",
      "Running testing for storm #31 for  1-hour ahead for 1-minute resolution\n",
      "\n",
      "[2023-12-04 10:04:11] Saving figure to file: figures\\storm_1min_31_1h_symh_uq_pe.pdf \n",
      "Running testing for storm #31 for  2-hour ahead for 1-minute resolution\n",
      "\n",
      "\n",
      "[2023-12-04 10:04:30] Saving figure to file: figures\\storm_1min_31_2h_symh_uq_pe.pdf \n",
      "Running testing for storm #33 for  1-hour ahead for 1-minute resolution\n",
      "\n",
      "[2023-12-04 10:04:47] Saving figure to file: figures\\storm_1min_33_1h_symh_uq_pe.pdf \n",
      "Running testing for storm #33 for  2-hour ahead for 1-minute resolution\n",
      "\n",
      "\n",
      "[2023-12-04 10:05:05] Saving figure to file: figures\\storm_1min_33_2h_symh_uq_pe.pdf \n",
      "Running testing for storm #40 for  1-hour ahead for 1-minute resolution\n",
      "\n",
      "[2023-12-04 10:05:20] Saving figure to file: figures\\storm_1min_40_1h_symh_uq_pe.pdf \n",
      "Running testing for storm #40 for  2-hour ahead for 1-minute resolution\n",
      "\n",
      "\n",
      "[2023-12-04 10:05:35] Saving figure to file: figures\\storm_1min_40_2h_symh_uq_pe.pdf \n",
      "Running testing for storm #42 for  1-hour ahead for 1-minute resolution\n",
      "\n",
      "[2023-12-04 10:05:56] Saving figure to file: figures\\storm_1min_42_1h_symh_uq_pe.pdf \n",
      "Running testing for storm #42 for  2-hour ahead for 1-minute resolution\n",
      "\n",
      "\n",
      "[2023-12-04 10:06:15] Saving figure to file: figures\\storm_1min_42_2h_symh_uq_pe.pdf \n"
     ]
    }
   ],
   "source": [
    "#Producing and testing Figure A1\n",
    "from SYMHnet_test import test_storm\n",
    "start_hour = 1          #1-hour ahead\n",
    "end_hour = 2            #2-hour ahead\n",
    "resolution_minutes=1    #resolution\n",
    "do_pred_error=True      #perform prediction error True|False\n",
    "view_type=''            #locatization type: '_lv' means focus on local view (peak storm time), '' (blank) full range\n",
    "for storm_to_test in [28,31,33,40,42]:\n",
    "    test_storm(storm_to_test,\n",
    "               start_hour,end_hour+1, \n",
    "               resolution_minutes=resolution_minutes, \n",
    "               do_pred_error=do_pred_error,\n",
    "               view_type=view_type)\n"
   ]
  },
  {
   "cell_type": "markdown",
   "id": "8d3f0b24-e9a8-48f5-9baa-674c5e42da27",
   "metadata": {},
   "source": [
    "#### 2.2.5.1 Displaying the Results Figures for Storms #36 and #37 for 1-minute Resolution Prediction Error"
   ]
  },
  {
   "cell_type": "markdown",
   "id": "93cdbb0b-3f47-4e30-956d-5cf2719a7f1c",
   "metadata": {},
   "source": [
    "<div style=\"text-align:center; width:100%\">\n",
    "    <img src=\"figures/storm_1min_28_1h_symh_uq_pe.png\" style=\"width:49%; float:left\" />\n",
    "    <img src=\"figures/storm_1min_28_2h_symh_uq_pe.png\" style=\"width:49%; float:right\" />\n",
    "</div>\n"
   ]
  },
  {
   "cell_type": "markdown",
   "id": "ef306cf8-11de-44a1-8040-88bd307ff29b",
   "metadata": {},
   "source": [
    "<div style=\"text-align:center; width:100%\">\n",
    "    <img src=\"figures/storm_1min_31_1h_symh_uq_pe.png\" style=\"width:49%; float:left\" />\n",
    "    <img src=\"figures/storm_1min_31_2h_symh_uq_pe.png\" style=\"width:49%; float:right\" /><br> \n",
    "</div>"
   ]
  },
  {
   "cell_type": "markdown",
   "id": "0e56dc16-c56b-48db-921d-925b89e88451",
   "metadata": {},
   "source": [
    "<div style=\"text-align:center; width:100%\">\n",
    "    <img src=\"figures/storm_1min_33_1h_symh_uq_pe.png\" style=\"width:49%; float:left\" />\n",
    "    <img src=\"figures/storm_1min_33_2h_symh_uq_pe.png\" style=\"width:49%; float:right\" /><br> \n",
    "</div>"
   ]
  },
  {
   "cell_type": "markdown",
   "id": "b5fb3417-6c52-4b77-8135-7179773bfc3e",
   "metadata": {},
   "source": [
    "<div style=\"text-align:center; width:100%\">\n",
    "    <img src=\"figures/storm_1min_40_1h_symh_uq_pe.png\" style=\"width:49%; float:left\" />\n",
    "    <img src=\"figures/storm_1min_40_2h_symh_uq_pe.png\" style=\"width:49%; float:right\" /><br> \n",
    "</div>"
   ]
  },
  {
   "cell_type": "markdown",
   "id": "f95f0557-326c-4f3c-90a4-a74a6f90b3b1",
   "metadata": {},
   "source": [
    "<div style=\"text-align:center; width:100%\">\n",
    "    <img src=\"figures/storm_1min_42_1h_symh_uq_pe.png\" style=\"width:49%; float:left\" />\n",
    "    <img src=\"figures/storm_1min_42_2h_symh_uq_pe.png\" style=\"width:49%; float:right\" /><br> \n",
    "    <img src=\"figures/storm_uq_pe_legend.png\" style=\"margin-left:2%; width:50%\" />\n",
    "</div>"
   ]
  },
  {
   "cell_type": "markdown",
   "id": "0ed94720-097a-4582-aabc-43051e2dd6e6",
   "metadata": {},
   "source": [
    "### 2.2.6 Predicting Storms #28,#31,#33,#40, and #42 for 1-minute Resolution Uncertainty Quantification"
   ]
  },
  {
   "cell_type": "code",
   "execution_count": 1,
   "id": "e86e8e4b-d5ec-4fa1-a30b-9e3706288bb5",
   "metadata": {},
   "outputs": [
    {
     "name": "stdout",
     "output_type": "stream",
     "text": [
      "Running testing for storm #28 for  1-hour ahead for 1-minute resolution\n",
      "[2023-12-04 10:17:53] Saving figure to file: figures\\storm_1min_28_1h_symh_uq.pdf \n",
      "Running testing for storm #28 for  2-hour ahead for 1-minute resolution\n",
      "[2023-12-04 10:18:08] Saving figure to file: figures\\storm_1min_28_2h_symh_uq.pdf \n",
      "Running testing for storm #31 for  1-hour ahead for 1-minute resolution\n",
      "[2023-12-04 10:18:27] Saving figure to file: figures\\storm_1min_31_1h_symh_uq.pdf \n",
      "Running testing for storm #31 for  2-hour ahead for 1-minute resolution\n",
      "[2023-12-04 10:18:45] Saving figure to file: figures\\storm_1min_31_2h_symh_uq.pdf \n",
      "Running testing for storm #33 for  1-hour ahead for 1-minute resolution\n",
      "[2023-12-04 10:19:03] Saving figure to file: figures\\storm_1min_33_1h_symh_uq.pdf \n",
      "Running testing for storm #33 for  2-hour ahead for 1-minute resolution\n",
      "[2023-12-04 10:19:22] Saving figure to file: figures\\storm_1min_33_2h_symh_uq.pdf \n",
      "Running testing for storm #40 for  1-hour ahead for 1-minute resolution\n",
      "[2023-12-04 10:19:38] Saving figure to file: figures\\storm_1min_40_1h_symh_uq.pdf \n",
      "Running testing for storm #40 for  2-hour ahead for 1-minute resolution\n",
      "[2023-12-04 10:19:54] Saving figure to file: figures\\storm_1min_40_2h_symh_uq.pdf \n",
      "Running testing for storm #42 for  1-hour ahead for 1-minute resolution\n",
      "[2023-12-04 10:20:16] Saving figure to file: figures\\storm_1min_42_1h_symh_uq.pdf \n",
      "Running testing for storm #42 for  2-hour ahead for 1-minute resolution\n",
      "[2023-12-04 10:20:38] Saving figure to file: figures\\storm_1min_42_2h_symh_uq.pdf \n"
     ]
    }
   ],
   "source": [
    "#Producing and testing Figure A2\n",
    "from SYMHnet_test import test_storm\n",
    "start_hour = 1          #1-hour ahead\n",
    "end_hour = 2            #2-hour ahead\n",
    "resolution_minutes=1    #resolution\n",
    "do_pred_error=False      #perform prediction error True|False\n",
    "view_type=''            #locatization type: '_lv' means focus on local view (peak storm time), '' (blank) full range\n",
    "for storm_to_test in [28,31,33,40,42]:\n",
    "    test_storm(storm_to_test,\n",
    "               start_hour,end_hour+1, \n",
    "               resolution_minutes=resolution_minutes, \n",
    "               do_pred_error=do_pred_error,\n",
    "               view_type=view_type)"
   ]
  },
  {
   "cell_type": "markdown",
   "id": "c92eb735-d646-4e89-b87f-dccf827eee64",
   "metadata": {},
   "source": [
    "#### 2.2.6.1 Displaying the Results Figures for Storms #28,#31,#33,#40, and #42 for 1-minute Resolution Prediction Error"
   ]
  },
  {
   "cell_type": "markdown",
   "id": "81fcfc41-40b3-4853-88e6-e3ae4b08be74",
   "metadata": {},
   "source": [
    "<div style=\"text-align:center; width:100%\">\n",
    "    <img src=\"figures/storm_1min_28_1h_symh_uq.png\" style=\"width:49%; float:left\" />\n",
    "    <img src=\"figures/storm_1min_28_2h_symh_uq.png\" style=\"width:49%; float:right\" />\n",
    "</div>\n"
   ]
  },
  {
   "cell_type": "markdown",
   "id": "f6a29000-7798-4169-89f3-42f85650eb11",
   "metadata": {},
   "source": [
    "<div style=\"text-align:center; width:100%\">\n",
    "    <img src=\"figures/storm_1min_31_1h_symh_uq.png\" style=\"width:49%; float:left\" />\n",
    "    <img src=\"figures/storm_1min_31_2h_symh_uq.png\" style=\"width:49%; float:right\" />\n",
    "</div>\n"
   ]
  },
  {
   "cell_type": "markdown",
   "id": "7eab4cfa-e832-4a21-bb34-9ca3334e3bfb",
   "metadata": {},
   "source": [
    "<div style=\"text-align:center; width:100%\">\n",
    "    <img src=\"figures/storm_1min_33_1h_symh_uq.png\" style=\"width:49%; float:left\" />\n",
    "    <img src=\"figures/storm_1min_33_2h_symh_uq.png\" style=\"width:49%; float:right\" />\n",
    "</div>"
   ]
  },
  {
   "cell_type": "markdown",
   "id": "46ba885d-5771-42c9-a8af-04f637d6266f",
   "metadata": {},
   "source": [
    "<div style=\"text-align:center; width:100%\">\n",
    "    <img src=\"figures/storm_1min_40_1h_symh_uq.png\" style=\"width:49%; float:left\" />\n",
    "    <img src=\"figures/storm_1min_40_2h_symh_uq.png\" style=\"width:49%; float:right\" /><br> \n",
    "</div>"
   ]
  },
  {
   "cell_type": "markdown",
   "id": "221a7c40-2f08-457c-b868-32e6c011f28a",
   "metadata": {},
   "source": [
    "<div style=\"text-align:center; width:100%\">\n",
    "    <img src=\"figures/storm_1min_42_1h_symh_uq.png\" style=\"width:49%; float:left\" />\n",
    "    <img src=\"figures/storm_1min_42_2h_symh_uq.png\" style=\"width:49%; float:right\" /><br> \n",
    "    <img src=\"figures/storm_uq_legend.png\" style=\"margin-left:2%; width:70%\" />\n",
    "</div>"
   ]
  },
  {
   "cell_type": "code",
   "execution_count": null,
   "id": "32381c38-14d2-4fff-ab97-8dc826e56ea2",
   "metadata": {},
   "outputs": [],
   "source": []
  }
 ],
 "metadata": {
  "kernelspec": {
   "display_name": "Python 3 (ipykernel)",
   "language": "python",
   "name": "python3"
  },
  "language_info": {
   "codemirror_mode": {
    "name": "ipython",
    "version": 3
   },
   "file_extension": ".py",
   "mimetype": "text/x-python",
   "name": "python",
   "nbconvert_exporter": "python",
   "pygments_lexer": "ipython3",
   "version": "3.9.7"
  }
 },
 "nbformat": 4,
 "nbformat_minor": 5
}
