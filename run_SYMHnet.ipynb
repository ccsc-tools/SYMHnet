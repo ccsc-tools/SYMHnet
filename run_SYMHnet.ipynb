{
 "cells": [
  {
   "cell_type": "markdown",
   "id": "a88e208c",
   "metadata": {},
   "source": [
    "# Prediction of the SYM-H Index Using a Bayesian Deep Learning Method with Uncertainty Quantification"
   ]
  },
  {
   "cell_type": "markdown",
   "id": "2469b7ae",
   "metadata": {},
   "source": [
    "# Authors\n",
    "## Yasser Abduallah, Jason T. L. Wang, Khalid A. Alobaid, Haimin Wang1, Vania K. Jordanova, Vasyl Yurchyshyn, Huseyin Cavus, and  Ju Jing"
   ]
  },
  {
   "cell_type": "markdown",
   "id": "1487dc15",
   "metadata": {},
   "source": [
    "# 1. Introduction"
   ]
  },
  {
   "cell_type": "markdown",
   "id": "0a607b49-af88-4caf-aa78-3fff09dc03fe",
   "metadata": {},
   "source": [
    "We propose a novel deep learning framework, named SYMHnet, which employs a graph neural network and \n",
    "a bidirectional long short-term memory network to cooperatively learn patterns from \n",
    "solar wind and interplanetary magnetic field parameters\n",
    "for short-term\n",
    "forecasts of the SYM-H index based on\n",
    "1-minute and 5-minute resolution data. SYMHnet takes, as input, the time series of the parameters' values\n",
    "provided by NASA's Space Science Data Coordinated Archive\n",
    "and predicts, as output, \n",
    "the SYM-H index value\n",
    "at time point t + w hours\n",
    "for a given time point t \n",
    "where w is 1 or 2.\n",
    "By incorporating Bayesian inference into the learning framework, \n",
    "SYMHnet can quantify both aleatoric (data) uncertainty and\n",
    "epistemic (model) uncertainty when predicting future SYM-H indices.\n",
    "Experimental results show that\n",
    "SYMHnet works well at quiet time and storm time,\n",
    "for both 1-minute and 5-minute resolution data.\n",
    "\n",
    "In this notebook, we provide an overview of the SYMHnet project,\n",
    "detailing how to run forecasting and training tasks.\n"
   ]
  },
  {
   "cell_type": "markdown",
   "id": "5121008d-9aea-4033-86a3-5c71bcb72d15",
   "metadata": {},
   "source": [
    "## 2. Workflow of SYMHnet\n",
    "\n",
    "### 2.1 Data Preparation and Loading\n",
    "\n",
    "The data directory inside the data folder includes all testing and training data sets required\n",
    "to run the notebook. The files are loaded and used during the testing and training process.\n",
    "\n",
    "__Note__\n",
    "The original data that consist solar wind, IMF and derived parameters along with the SYM-H index data used in our study are publicly available from NASA's Space Physics Data Facility at http://omniweb.gsfc.nasa.gov/ow.html"
   ]
  },
  {
   "cell_type": "markdown",
   "id": "86853a04",
   "metadata": {},
   "source": [
    "## 2.2 Predicting with Pretrained Model"
   ]
  },
  {
   "cell_type": "markdown",
   "id": "4da3a908-1aa9-4352-b924-a508e22f9209",
   "metadata": {},
   "source": [
    "There are default and pretrained models that can be used to predict without running your own trained model."
   ]
  },
  {
   "cell_type": "markdown",
   "id": "bc2ae68a-61e0-4a86-8e3c-70404fb020cb",
   "metadata": {},
   "source": [
    "### 2.2.1 Predicting Storms #36 and #37 for 1-minute Resolution"
   ]
  },
  {
   "cell_type": "code",
   "execution_count": 1,
   "id": "09446348",
   "metadata": {},
   "outputs": [
    {
     "name": "stdout",
     "output_type": "stream",
     "text": [
      "Running testing for storm # 36  for  1-hour ahead\n",
      "Testing is in progress..\n",
      "\n",
      "[2023-12-03 11:09:34] Saving figure to file: figures\\storm_1min_36_1h_symh_uq_pe.pdf \n",
      "Running testing for storm # 36  for  2-hour ahead\n",
      "Testing is in progress..\n",
      "\n",
      "\n",
      "[2023-12-03 11:09:42] Saving figure to file: figures\\storm_5min_36_2h_symh_uq_pe.pdf \n"
     ]
    }
   ],
   "source": [
    "from SYMHnet_test import test_storm\n",
    "storm_to_test = 36      #storm number 36\n",
    "start_hour = 1          #1-hour ahead\n",
    "end_hour = 2            #2-hour ahead\n",
    "resolution_minutes=1    #resolution\n",
    "do_pred_error=True      #perform prediction error True|False\n",
    "view_type=''            #locatization type: '_lv' means focus on local view, '' (blank) full range\n",
    "test_storm(storm_to_test,start_hour,end_hour+1, resolution_minutes=resolution_minutes, do_pred_error=do_pred_error,view_type = '')"
   ]
  },
  {
   "cell_type": "markdown",
   "id": "f99092c5",
   "metadata": {},
   "source": [
    "Predicting 5 minute resolution for 1-6 hours"
   ]
  },
  {
   "cell_type": "markdown",
   "id": "fde79843-f51f-4dbc-9de2-623d0a9556f9",
   "metadata": {},
   "source": [
    "![](figures/storm_1min_36_1h_symh_uq_pe.png)\n",
    "![](figures/storm_5min_36_2h_symh_uq_pe.png)"
   ]
  },
  {
   "cell_type": "code",
   "execution_count": null,
   "id": "5dd2e541",
   "metadata": {},
   "outputs": [],
   "source": [
    "from SYMHnet_test import test\n",
    "starting_hour = 1\n",
    "test(starting_hour,starting_hour+6, res='5min')"
   ]
  },
  {
   "cell_type": "code",
   "execution_count": null,
   "id": "b2291a8b",
   "metadata": {},
   "outputs": [],
   "source": []
  }
 ],
 "metadata": {
  "kernelspec": {
   "display_name": "Python 3 (ipykernel)",
   "language": "python",
   "name": "python3"
  },
  "language_info": {
   "codemirror_mode": {
    "name": "ipython",
    "version": 3
   },
   "file_extension": ".py",
   "mimetype": "text/x-python",
   "name": "python",
   "nbconvert_exporter": "python",
   "pygments_lexer": "ipython3",
   "version": "3.9.7"
  }
 },
 "nbformat": 4,
 "nbformat_minor": 5
}
